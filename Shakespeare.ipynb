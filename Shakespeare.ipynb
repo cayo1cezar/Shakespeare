{
  "nbformat": 4,
  "nbformat_minor": 0,
  "metadata": {
    "colab": {
      "provenance": [],
      "authorship_tag": "ABX9TyMVmYhaezNwhv71b8z+HG8Y",
      "include_colab_link": true
    },
    "kernelspec": {
      "name": "python3",
      "display_name": "Python 3"
    },
    "language_info": {
      "name": "python"
    }
  },
  "cells": [
    {
      "cell_type": "markdown",
      "metadata": {
        "id": "view-in-github",
        "colab_type": "text"
      },
      "source": [
        "<a href=\"https://colab.research.google.com/github/cayo1cezar/Shakespeare/blob/main/Shakespeare.ipynb\" target=\"_parent\"><img src=\"https://colab.research.google.com/assets/colab-badge.svg\" alt=\"Open In Colab\"/></a>"
      ]
    },
    {
      "cell_type": "code",
      "execution_count": 2,
      "metadata": {
        "id": "lO9DIl1NXNx1"
      },
      "outputs": [],
      "source": [
        "import tensorflow as tf, numpy as np \n",
        "from tensorflow import keras \n",
        "from keras import layers \n",
        "from keras.preprocessing.text import Tokenizer \n",
        "from keras_preprocessing.sequence import pad_sequences\n",
        "from keras.utils import to_categorical \n",
        "#\n",
        "import matplotlib.pyplot as plt\n",
        "import re, string # expressões regulares\n",
        "plt.style.use('ggplot')\n"
      ]
    },
    {
      "cell_type": "code",
      "source": [
        "text = open('shakespeare.txt').read()\n",
        "text = text.lower()# somente letras minusculas\n",
        "text = text.replace('\\n', ' \\n ') # considerar \\n como palavra\n",
        "text_words = [w for w in text.split(' ') if w.strip() != '' or w == '\\n']\n",
        "text_words = [re.sub(r'[^\\x00-\\x7f]',r'', s) for s in text_words]# remove numeros e acentos\n",
        "print('Quantidade Total de Palavras: ', len(text_words))\n",
        "print(text_words[:10])"
      ],
      "metadata": {
        "colab": {
          "base_uri": "https://localhost:8080/"
        },
        "id": "LPNtx5X9ge5r",
        "outputId": "ccd0ff6c-9d16-460d-b3b4-4b71b74d1ac3"
      },
      "execution_count": 3,
      "outputs": [
        {
          "output_type": "stream",
          "name": "stdout",
          "text": [
            "Quantidade Total de Palavras:  242651\n",
            "['first', 'citizen:', '\\n', 'before', 'we', 'proceed', 'any', 'further,', 'hear', 'me']\n"
          ]
        }
      ]
    },
    {
      "cell_type": "code",
      "source": [
        "vocab_size = 500 # tamanho do vocabulário\n",
        "# criando tokenizer (usa somente as 'VOCAB_SIZE' palavras mais comuns)\n",
        "tokenizer = Tokenizer(num_words=vocab_size, oov_token='<OOV>',\n",
        "                      filters='[^\\x00-\\x7f]')\n",
        "# definindo vocabulario\n",
        "tokenizer.fit_on_texts(text_words)\n",
        "# tokenizando as palavras\n",
        "tokens = tokenizer.texts_to_sequences(text_words)\n",
        "tokens = [int(t[0]) for t in tokens] # lista para inteiros\n",
        "print(text_words[:8])\n",
        "print(tokens[:8])"
      ],
      "metadata": {
        "colab": {
          "base_uri": "https://localhost:8080/"
        },
        "id": "7l-kKapGghlK",
        "outputId": "87b2a6ed-bb02-4e8b-8e3f-413796a6acdb"
      },
      "execution_count": 4,
      "outputs": [
        {
          "output_type": "stream",
          "name": "stdout",
          "text": [
            "['first', 'citizen:', '\\n', 'before', 'we', 'proceed', 'any', 'further,']\n",
            "[84, 229, 2, 148, 33, 1, 131, 1]\n"
          ]
        }
      ]
    },
    {
      "cell_type": "code",
      "source": [
        "step = 1 # distancia a cada fatia \n",
        "sentences = [] # frases X\n",
        "next_words = [] # palavras Y\n",
        "seq_len = 10 # número de tokens por frase\n",
        "for i in range(0, len(tokens) - seq_len, step):\n",
        "    # Only add sequences where no word is in ignored_words\n",
        "    sentences.append(tokens[i: i + seq_len])\n",
        "    next_words.append(tokens[i + seq_len])\n",
        "   \n",
        "print(f'[+] Instâncias para treino: {len(sentences)}')\n",
        "for i in range(5):\n",
        "    print(sentences[i],'-->',next_words[i])"
      ],
      "metadata": {
        "colab": {
          "base_uri": "https://localhost:8080/"
        },
        "id": "DXYgDXxzglBi",
        "outputId": "c8b384a1-da47-4499-8355-679af0023a41"
      },
      "execution_count": 5,
      "outputs": [
        {
          "output_type": "stream",
          "name": "stdout",
          "text": [
            "[+] Instâncias para treino: 242641\n",
            "[84, 229, 2, 148, 33, 1, 131, 1, 126, 27] --> 1\n",
            "[229, 2, 148, 33, 1, 131, 1, 126, 27, 1] --> 2\n",
            "[2, 148, 33, 1, 131, 1, 126, 27, 1, 2] --> 2\n",
            "[148, 33, 1, 131, 1, 126, 27, 1, 2, 2] --> 1\n",
            "[33, 1, 131, 1, 126, 27, 1, 2, 2, 1] --> 2\n"
          ]
        }
      ]
    },
    {
      "cell_type": "code",
      "source": [
        "# mostra shape atual\n",
        "train_x = np.array(sentences) # pega as sentenças\n",
        "train_y = np.array(next_words) # pega as palavras seguintes\n",
        "print('Shape X:',train_x.shape)\n",
        "print('Shape Y:',train_y.shape)\n",
        "# codificando para one-hot\n",
        "train_x_onehot = to_categorical(train_x, num_classes=vocab_size)\n",
        "train_y_onehot = to_categorical(train_y, num_classes=vocab_size)\n",
        "# train_x:(num_exemplos, num_tokens, vocab_size)\n",
        "print('Shape X após one-hot:',train_x_onehot.shape)\n",
        "# train_y:(num_exemplos,vocab_size)\n",
        "print('Shape Y após one-hot:',train_y_onehot.shape)"
      ],
      "metadata": {
        "colab": {
          "base_uri": "https://localhost:8080/"
        },
        "id": "8zr82TMMgoBC",
        "outputId": "d1d94f40-4fdb-485b-eec4-388ca355fd34"
      },
      "execution_count": 6,
      "outputs": [
        {
          "output_type": "stream",
          "name": "stdout",
          "text": [
            "Shape X: (242641, 10)\n",
            "Shape Y: (242641,)\n",
            "Shape X após one-hot: (242641, 10, 500)\n",
            "Shape Y após one-hot: (242641, 500)\n"
          ]
        }
      ]
    },
    {
      "cell_type": "code",
      "source": [
        "model = keras.Sequential([\n",
        "    layers.LSTM(64, input_shape=(seq_len, vocab_size), return_sequences=False,),\n",
        "    layers.Dense(vocab_size, activation='softmax')\n",
        "])"
      ],
      "metadata": {
        "id": "VO0ec7C4gr1K"
      },
      "execution_count": 7,
      "outputs": []
    },
    {
      "cell_type": "code",
      "source": [
        "model.compile(optimizer='adam', loss='categorical_crossentropy', metrics=['accuracy'])\n",
        "model.summary()"
      ],
      "metadata": {
        "colab": {
          "base_uri": "https://localhost:8080/"
        },
        "id": "v8hHxqn6gvXC",
        "outputId": "4a21b379-98b6-4ca0-b1d9-ca845478a782"
      },
      "execution_count": 8,
      "outputs": [
        {
          "output_type": "stream",
          "name": "stdout",
          "text": [
            "Model: \"sequential\"\n",
            "_________________________________________________________________\n",
            " Layer (type)                Output Shape              Param #   \n",
            "=================================================================\n",
            " lstm (LSTM)                 (None, 64)                144640    \n",
            "                                                                 \n",
            " dense (Dense)               (None, 500)               32500     \n",
            "                                                                 \n",
            "=================================================================\n",
            "Total params: 177,140\n",
            "Trainable params: 177,140\n",
            "Non-trainable params: 0\n",
            "_________________________________________________________________\n"
          ]
        }
      ]
    },
    {
      "cell_type": "code",
      "source": [
        "train_history = model.fit(train_x_onehot, train_y_onehot, validation_split=0.2,\n",
        "                    epochs=15, batch_size=256)"
      ],
      "metadata": {
        "colab": {
          "base_uri": "https://localhost:8080/"
        },
        "id": "uTMtUlQxg4kC",
        "outputId": "714cfe55-1135-44e6-cdf2-137188b2148a"
      },
      "execution_count": 9,
      "outputs": [
        {
          "output_type": "stream",
          "name": "stdout",
          "text": [
            "Epoch 1/15\n",
            "759/759 [==============================] - 54s 68ms/step - loss: 3.9120 - accuracy: 0.2847 - val_loss: 3.7802 - val_accuracy: 0.3187\n",
            "Epoch 2/15\n",
            "759/759 [==============================] - 50s 67ms/step - loss: 3.6677 - accuracy: 0.3452 - val_loss: 3.7029 - val_accuracy: 0.3438\n",
            "Epoch 3/15\n",
            "759/759 [==============================] - 53s 70ms/step - loss: 3.5130 - accuracy: 0.3764 - val_loss: 3.5638 - val_accuracy: 0.3748\n",
            "Epoch 4/15\n",
            "759/759 [==============================] - 51s 67ms/step - loss: 3.3612 - accuracy: 0.3941 - val_loss: 3.4823 - val_accuracy: 0.3861\n",
            "Epoch 5/15\n",
            "759/759 [==============================] - 53s 70ms/step - loss: 3.2606 - accuracy: 0.4011 - val_loss: 3.4180 - val_accuracy: 0.4000\n",
            "Epoch 6/15\n",
            "759/759 [==============================] - 51s 67ms/step - loss: 3.1893 - accuracy: 0.4059 - val_loss: 3.3690 - val_accuracy: 0.4027\n",
            "Epoch 7/15\n",
            "759/759 [==============================] - 53s 70ms/step - loss: 3.1377 - accuracy: 0.4088 - val_loss: 3.3417 - val_accuracy: 0.4023\n",
            "Epoch 8/15\n",
            "759/759 [==============================] - 50s 66ms/step - loss: 3.1000 - accuracy: 0.4101 - val_loss: 3.3126 - val_accuracy: 0.4042\n",
            "Epoch 9/15\n",
            "759/759 [==============================] - 51s 67ms/step - loss: 3.0712 - accuracy: 0.4123 - val_loss: 3.2951 - val_accuracy: 0.4048\n",
            "Epoch 10/15\n",
            "759/759 [==============================] - 51s 67ms/step - loss: 3.0462 - accuracy: 0.4133 - val_loss: 3.2873 - val_accuracy: 0.4048\n",
            "Epoch 11/15\n",
            "759/759 [==============================] - 53s 70ms/step - loss: 3.0255 - accuracy: 0.4143 - val_loss: 3.2733 - val_accuracy: 0.4063\n",
            "Epoch 12/15\n",
            "759/759 [==============================] - 51s 67ms/step - loss: 3.0081 - accuracy: 0.4153 - val_loss: 3.2683 - val_accuracy: 0.4062\n",
            "Epoch 13/15\n",
            "759/759 [==============================] - 51s 68ms/step - loss: 2.9918 - accuracy: 0.4159 - val_loss: 3.2610 - val_accuracy: 0.4067\n",
            "Epoch 14/15\n",
            "759/759 [==============================] - 54s 71ms/step - loss: 2.9772 - accuracy: 0.4169 - val_loss: 3.2673 - val_accuracy: 0.4032\n",
            "Epoch 15/15\n",
            "759/759 [==============================] - 50s 66ms/step - loss: 2.9644 - accuracy: 0.4176 - val_loss: 3.2610 - val_accuracy: 0.4064\n"
          ]
        }
      ]
    },
    {
      "cell_type": "code",
      "source": [
        "plt.plot(train_history.history['accuracy'], label='Treino')\n",
        "plt.plot(train_history.history['val_accuracy'], label='Validação')\n",
        "plt.xlabel('Èpocas');plt.ylabel('Acurácia')\n",
        "plt.legend()\n",
        "plt.show()"
      ],
      "metadata": {
        "colab": {
          "base_uri": "https://localhost:8080/",
          "height": 284
        },
        "id": "ZPInNHbij8js",
        "outputId": "3f9cd21a-d6f2-4992-854a-9fc7f121a6cb"
      },
      "execution_count": 10,
      "outputs": [
        {
          "output_type": "display_data",
          "data": {
            "text/plain": [
              "<Figure size 432x288 with 1 Axes>"
            ],
            "image/png": "[encoded data removed]"
          },
          "metadata": {}
        }
      ]
    },
    {
      "cell_type": "code",
      "source": [
        "seed_text = ['ROMEO:'] # frase inicial\n",
        "seed_tokens = tokenizer.texts_to_sequences(seed_text)[0] # substitui palavras por tokens\n",
        "# preenche sequencia com zeros para ter o comprimento adequado pra rede\n",
        "tokens_x = pad_sequences([seed_tokens], maxlen=seq_len, )\n",
        "tokens_x = to_categorical(tokens_x, num_classes=vocab_size) # one hot\n",
        "pred_y = model.predict(tokens_x)[0] # preve probabilidades para a proxima palavra\n",
        "print(f'Quantidade de Probabilidades: {len(pred_y)}')\n",
        "print(pred_y[:4])"
      ],
      "metadata": {
        "colab": {
          "base_uri": "https://localhost:8080/"
        },
        "id": "SBJb1igMkAoz",
        "outputId": "07863f2f-4b76-4037-fde6-bad2a9d3c528"
      },
      "execution_count": 11,
      "outputs": [
        {
          "output_type": "stream",
          "name": "stdout",
          "text": [
            "1/1 [==============================] - 2s 2s/step\n",
            "Quantidade de Probabilidades: 500\n",
            "[2.9367515e-12 8.5701299e-04 9.9759346e-01 3.6386562e-05]\n"
          ]
        }
      ]
    },
    {
      "cell_type": "code",
      "source": [
        "# pega indice da palavra com maior probabilidade \n",
        "next_token = np.argmax(pred_y,)\n",
        "# realiza a inversão de token para palavra\n",
        "next_word = tokenizer.sequences_to_texts([[next_token]])\n",
        "print('Proximo token: ', next_token, '-->', next_word)"
      ],
      "metadata": {
        "colab": {
          "base_uri": "https://localhost:8080/"
        },
        "id": "MI80Jjt1kD4b",
        "outputId": "ce43d220-b18e-4cea-81f4-70a83c707d1c"
      },
      "execution_count": 12,
      "outputs": [
        {
          "output_type": "stream",
          "name": "stdout",
          "text": [
            "Proximo token:  2 --> ['\\n']\n"
          ]
        }
      ]
    },
    {
      "cell_type": "code",
      "source": [
        "def sample_word(pred_y, temperature=1.0):\n",
        "    pred_y = pred_y / temperature # 'força' das probabilidades\n",
        "    pred_token = tf.random.categorical(pred_y, 1).numpy()\n",
        "    return pred_token # token de saída"
      ],
      "metadata": {
        "id": "9--BlB5ukGuL"
      },
      "execution_count": 13,
      "outputs": []
    },
    {
      "cell_type": "code",
      "source": [
        "seed_text = ['ROMEO:'] # frase inicial\n",
        "seed_tokens = tokenizer.texts_to_sequences(seed_text)[0] # substitui palavras por tokens\n",
        "print(seed_text, ' tokenizado fica: ', seed_tokens)\n",
        "# preenche sequencia com zeros para ter o comprimento adequado pra rede\n",
        "tokens_x = pad_sequences([seed_tokens], maxlen=seq_len, )\n",
        "tokens_x = to_categorical(tokens_x, num_classes=vocab_size) # one hot\n",
        "pred_y = model.predict(tokens_x) # preve probabilidades para a proxima palavra\n",
        "next_token = sample_word(pred_y)\n",
        "# realiza a inversão de token para palavra\n",
        "next_word = tokenizer.sequences_to_texts(next_token)\n",
        "print('Proximo token: ', next_token, '-->', next_word)"
      ],
      "metadata": {
        "colab": {
          "base_uri": "https://localhost:8080/"
        },
        "id": "PLebB_imkI77",
        "outputId": "490f7d3d-1c7f-468d-9509-b62a72462334"
      },
      "execution_count": 14,
      "outputs": [
        {
          "output_type": "stream",
          "name": "stdout",
          "text": [
            "['ROMEO:']  tokenizado fica:  [146]\n",
            "1/1 [==============================] - 0s 66ms/step\n",
            "Proximo token:  [[282]] --> ['away']\n"
          ]
        }
      ]
    },
    {
      "cell_type": "code",
      "source": [
        "seed_text = ['ROMEO:'] # frase inicial\n",
        "next_words = 100 # 100 próximas palavras\n",
        "# substitui palavras por tokens\n",
        "seed_tokens = tokenizer.texts_to_sequences(seed_text)[0] # substitui palavras por tokens\n",
        "print(seed_text, ' tokenizado fica: ', seed_tokens)\n",
        "for _ in range(next_words):\n",
        "    # preenche sequencia com zeros para ter o comprimento adequado pra rede\n",
        "    tokens_x = pad_sequences([seed_tokens], maxlen=seq_len, )\n",
        "    # transforma tokens em vetor one-hot\n",
        "    tokens_x = to_categorical(tokens_x, num_classes=vocab_size) # one hot\n",
        "    # preve probabilidades para a proxima palavra\n",
        "    pred_y = model.predict(tokens_x)\n",
        "    # faz amostragem com base nas probabilidades\n",
        "    next_token = sample_word(pred_y, 0.2)\n",
        "    next_token = next_token.flatten()[0] # pega valor como um int\n",
        "    # anexa token a lista\n",
        "    seed_tokens.append(next_token) \n",
        "    \n",
        "# como a saída é um conjunto de tokens\n",
        "# realiza a inversão para palavras, usando word_index\n",
        "resultado = tokenizer.sequences_to_texts([seed_tokens])\n",
        "print('\\n')\n",
        "print(resultado[0])"
      ],
      "metadata": {
        "colab": {
          "base_uri": "https://localhost:8080/"
        },
        "id": "6EdBjdlwkLNy",
        "outputId": "afb86c67-88c6-423f-84d8-5fc2ae3ba0a0"
      },
      "execution_count": 15,
      "outputs": [
        {
          "output_type": "stream",
          "name": "stdout",
          "text": [
            "['ROMEO:']  tokenizado fica:  [146]\n",
            "1/1 [==============================] - 0s 19ms/step\n",
            "1/1 [==============================] - 0s 20ms/step\n",
            "1/1 [==============================] - 0s 23ms/step\n",
            "1/1 [==============================] - 0s 19ms/step\n",
            "1/1 [==============================] - 0s 17ms/step\n",
            "1/1 [==============================] - 0s 25ms/step\n",
            "1/1 [==============================] - 0s 20ms/step\n",
            "1/1 [==============================] - 0s 22ms/step\n",
            "1/1 [==============================] - 0s 31ms/step\n",
            "1/1 [==============================] - 0s 18ms/step\n",
            "1/1 [==============================] - 0s 20ms/step\n",
            "1/1 [==============================] - 0s 19ms/step\n",
            "1/1 [==============================] - 0s 19ms/step\n",
            "1/1 [==============================] - 0s 22ms/step\n",
            "1/1 [==============================] - 0s 20ms/step\n",
            "1/1 [==============================] - 0s 19ms/step\n",
            "1/1 [==============================] - 0s 18ms/step\n",
            "1/1 [==============================] - 0s 17ms/step\n",
            "1/1 [==============================] - 0s 21ms/step\n",
            "1/1 [==============================] - 0s 25ms/step\n",
            "1/1 [==============================] - 0s 18ms/step\n",
            "1/1 [==============================] - 0s 20ms/step\n",
            "1/1 [==============================] - 0s 21ms/step\n",
            "1/1 [==============================] - 0s 18ms/step\n",
            "1/1 [==============================] - 0s 24ms/step\n",
            "1/1 [==============================] - 0s 21ms/step\n",
            "1/1 [==============================] - 0s 19ms/step\n",
            "1/1 [==============================] - 0s 24ms/step\n",
            "1/1 [==============================] - 0s 28ms/step\n",
            "1/1 [==============================] - 0s 21ms/step\n",
            "1/1 [==============================] - 0s 21ms/step\n",
            "1/1 [==============================] - 0s 20ms/step\n",
            "1/1 [==============================] - 0s 22ms/step\n",
            "1/1 [==============================] - 0s 18ms/step\n",
            "1/1 [==============================] - 0s 20ms/step\n",
            "1/1 [==============================] - 0s 18ms/step\n",
            "1/1 [==============================] - 0s 26ms/step\n",
            "1/1 [==============================] - 0s 20ms/step\n",
            "1/1 [==============================] - 0s 18ms/step\n",
            "1/1 [==============================] - 0s 20ms/step\n",
            "1/1 [==============================] - 0s 22ms/step\n",
            "1/1 [==============================] - 0s 20ms/step\n",
            "1/1 [==============================] - 0s 18ms/step\n",
            "1/1 [==============================] - 0s 24ms/step\n",
            "1/1 [==============================] - 0s 22ms/step\n",
            "1/1 [==============================] - 0s 21ms/step\n",
            "1/1 [==============================] - 0s 22ms/step\n",
            "1/1 [==============================] - 0s 24ms/step\n",
            "1/1 [==============================] - 0s 20ms/step\n",
            "1/1 [==============================] - 0s 19ms/step\n",
            "1/1 [==============================] - 0s 25ms/step\n",
            "1/1 [==============================] - 0s 21ms/step\n",
            "1/1 [==============================] - 0s 19ms/step\n",
            "1/1 [==============================] - 0s 19ms/step\n",
            "1/1 [==============================] - 0s 27ms/step\n",
            "1/1 [==============================] - 0s 19ms/step\n",
            "1/1 [==============================] - 0s 19ms/step\n",
            "1/1 [==============================] - 0s 18ms/step\n",
            "1/1 [==============================] - 0s 19ms/step\n",
            "1/1 [==============================] - 0s 25ms/step\n",
            "1/1 [==============================] - 0s 19ms/step\n",
            "1/1 [==============================] - 0s 18ms/step\n",
            "1/1 [==============================] - 0s 18ms/step\n",
            "1/1 [==============================] - 0s 18ms/step\n",
            "1/1 [==============================] - 0s 20ms/step\n",
            "1/1 [==============================] - 0s 20ms/step\n",
            "1/1 [==============================] - 0s 21ms/step\n",
            "1/1 [==============================] - 0s 22ms/step\n",
            "1/1 [==============================] - 0s 18ms/step\n",
            "1/1 [==============================] - 0s 18ms/step\n",
            "1/1 [==============================] - 0s 18ms/step\n",
            "1/1 [==============================] - 0s 18ms/step\n",
            "1/1 [==============================] - 0s 26ms/step\n",
            "1/1 [==============================] - 0s 19ms/step\n",
            "1/1 [==============================] - 0s 19ms/step\n",
            "1/1 [==============================] - 0s 19ms/step\n",
            "1/1 [==============================] - 0s 20ms/step\n",
            "1/1 [==============================] - 0s 19ms/step\n",
            "1/1 [==============================] - 0s 19ms/step\n",
            "1/1 [==============================] - 0s 19ms/step\n",
            "1/1 [==============================] - 0s 22ms/step\n",
            "1/1 [==============================] - 0s 20ms/step\n",
            "1/1 [==============================] - 0s 21ms/step\n",
            "1/1 [==============================] - 0s 22ms/step\n",
            "1/1 [==============================] - 0s 20ms/step\n",
            "1/1 [==============================] - 0s 21ms/step\n",
            "1/1 [==============================] - 0s 20ms/step\n",
            "1/1 [==============================] - 0s 26ms/step\n",
            "1/1 [==============================] - 0s 25ms/step\n",
            "1/1 [==============================] - 0s 19ms/step\n",
            "1/1 [==============================] - 0s 24ms/step\n",
            "1/1 [==============================] - 0s 20ms/step\n",
            "1/1 [==============================] - 0s 19ms/step\n",
            "1/1 [==============================] - 0s 19ms/step\n",
            "1/1 [==============================] - 0s 20ms/step\n",
            "1/1 [==============================] - 0s 20ms/step\n",
            "1/1 [==============================] - 0s 22ms/step\n",
            "1/1 [==============================] - 0s 21ms/step\n",
            "1/1 [==============================] - 0s 20ms/step\n",
            "1/1 [==============================] - 0s 18ms/step\n",
            "\n",
            "\n",
            "romeo: yet iii: death. us, beseech left juliet: live mean dear blood pray edward sir holy mine wife, \n",
            " long warwick: again. marcius: 'tis shall hastings: him king thou, dost \n",
            " mother prince three volumnia: it. o'er true in an down ay, stand death, hear romeo: \n",
            " son, love, is, gremio: rest call anne: god royal high well. either wife what better our why i, \n",
            " myself daughter i little tell her lords, you: i' holy but been no didst edward's show nor an son either thus \n",
            " duke young hope edward brother, his o god polixenes: here's away he's but\n"
          ]
        }
      ]
    }
  ]
}